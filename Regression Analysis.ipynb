{
 "cells": [
  {
   "cell_type": "code",
   "execution_count": 92,
   "metadata": {
    "collapsed": true
   },
   "outputs": [],
   "source": [
    "# Mohammed Farees Patel"
   ]
  },
  {
   "cell_type": "code",
   "execution_count": 93,
   "metadata": {
    "collapsed": true
   },
   "outputs": [],
   "source": [
    "#Import packages\n",
    "import pandas as pd\n",
    "import numpy as np\n",
    "from sklearn import cross_validation as cv\n",
    "from sklearn.linear_model import LinearRegression\n",
    "from sklearn import linear_model\n",
    "from sklearn.model_selection import cross_val_score\n",
    "from sklearn import metrics\n",
    "from sklearn import preprocessing as pre"
   ]
  },
  {
   "cell_type": "code",
   "execution_count": 94,
   "metadata": {
    "collapsed": true
   },
   "outputs": [],
   "source": [
    "# Read training file\n",
    "data=pd.read_csv(\"blogData_train.csv\", header=None)"
   ]
  },
  {
   "cell_type": "code",
   "execution_count": 95,
   "metadata": {
    "collapsed": true
   },
   "outputs": [],
   "source": [
    "# Read testing file\n",
    "test_data=pd.read_csv(\"blogData_test-2012.03.31.01_00.csv\", header=None)"
   ]
  },
  {
   "cell_type": "code",
   "execution_count": 96,
   "metadata": {
    "collapsed": true
   },
   "outputs": [],
   "source": [
    "# Preparing data for least square regression\n",
    "lin_data=pd.concat([data,test_data])\n",
    "lin_data.reset_index()\n",
    "lin_data_class = lin_data[len(lin_data.columns)-1]\n",
    "del lin_data[len(lin_data.columns)-1]"
   ]
  },
  {
   "cell_type": "code",
   "execution_count": 97,
   "metadata": {
    "collapsed": true
   },
   "outputs": [],
   "source": [
    "# Segregating training data into features and target variable\n",
    "data = data.iloc[np.random.permutation(len(data))]\n",
    "data_class = data[len(data.columns)-1]\n",
    "del data[len(data.columns)-1]"
   ]
  },
  {
   "cell_type": "code",
   "execution_count": 98,
   "metadata": {
    "collapsed": true
   },
   "outputs": [],
   "source": [
    "# Segregating testing data into features and target variable\n",
    "test_class = test_data[len(test_data.columns)-1]\n",
    "del test_data[len(test_data.columns)-1]"
   ]
  },
  {
   "cell_type": "code",
   "execution_count": 99,
   "metadata": {
    "collapsed": true
   },
   "outputs": [],
   "source": [
    "# 7(a): Least Square Regression"
   ]
  },
  {
   "cell_type": "code",
   "execution_count": 100,
   "metadata": {
    "collapsed": true
   },
   "outputs": [],
   "source": [
    "model_lsr = linear_model.LinearRegression()"
   ]
  },
  {
   "cell_type": "code",
   "execution_count": 101,
   "metadata": {
    "collapsed": true
   },
   "outputs": [],
   "source": [
    "# Perform 10 fold cross validation and calculate RMSE\n",
    "n = 10\n",
    "kf = cv.KFold(len(lin_data), n_folds=n)\n",
    "xval_err = 0\n",
    "for train,test in kf:\n",
    "    model_lsr.fit(lin_data.iloc[train].values,lin_data_class.iloc[train].values)\n",
    "    p = model_lsr.predict(lin_data.iloc[test].values)\n",
    "    e = p-lin_data_class.iloc[test].values\n",
    "    xval_err += np.dot(e,e)\n",
    "       \n",
    "rmse_10cv_lsr = np.sqrt(xval_err/len(lin_data))"
   ]
  },
  {
   "cell_type": "code",
   "execution_count": 130,
   "metadata": {},
   "outputs": [
    {
     "name": "stdout",
     "output_type": "stream",
     "text": [
      "Method: Least Square Regression\n",
      "RMSE on 10-fold CV: 172.8109\n"
     ]
    }
   ],
   "source": [
    "method_name = 'Least Square Regression'\n",
    "print('Method: %s' %method_name)\n",
    "print('RMSE on 10-fold CV: %.4f' %rmse_10cv_lsr)"
   ]
  },
  {
   "cell_type": "code",
   "execution_count": 103,
   "metadata": {
    "collapsed": true
   },
   "outputs": [],
   "source": [
    "# 7.(b) Ridge Regression"
   ]
  },
  {
   "cell_type": "code",
   "execution_count": 104,
   "metadata": {
    "collapsed": true
   },
   "outputs": [],
   "source": [
    "# Perform 10 fold cross validation and train a model\n",
    "model_ridge=linear_model.RidgeCV(cv=10).fit(data.values, data_class.values)"
   ]
  },
  {
   "cell_type": "code",
   "execution_count": 105,
   "metadata": {
    "collapsed": true
   },
   "outputs": [],
   "source": [
    "# Test the model and clculate the RMSE\n",
    "test_pred_ridge=model_ridge.predict(test_data)\n",
    "rmse_10cv_ridge=np.sqrt(metrics.mean_squared_error(test_class,test_pred_ridge))"
   ]
  },
  {
   "cell_type": "code",
   "execution_count": 133,
   "metadata": {},
   "outputs": [
    {
     "name": "stdout",
     "output_type": "stream",
     "text": [
      "Method: Ridge Regression\n",
      "RMSE on 10-fold CV: 40.4292\n"
     ]
    }
   ],
   "source": [
    "method_name = 'Ridge Regression'\n",
    "print('Method: %s' %method_name)\n",
    "print('RMSE on 10-fold CV: %.4f' %rmse_10cv_ridge)"
   ]
  },
  {
   "cell_type": "code",
   "execution_count": 107,
   "metadata": {
    "collapsed": true
   },
   "outputs": [],
   "source": [
    "# 7.(c) Lasso Regression"
   ]
  },
  {
   "cell_type": "code",
   "execution_count": 108,
   "metadata": {
    "collapsed": true
   },
   "outputs": [],
   "source": [
    "# Perform 10 fold cross validation and train a model\n",
    "model_lasso=linear_model.LassoCV(cv=10).fit(data.values, data_class.values)"
   ]
  },
  {
   "cell_type": "code",
   "execution_count": 109,
   "metadata": {
    "collapsed": true
   },
   "outputs": [],
   "source": [
    "# Test the model and clculate the RMSE\n",
    "test_pred_lasso=model_lasso.predict(test_data)\n",
    "rmse_10cv_lasso=np.sqrt(metrics.mean_squared_error(test_class,test_pred_lasso))"
   ]
  },
  {
   "cell_type": "code",
   "execution_count": 135,
   "metadata": {},
   "outputs": [
    {
     "name": "stdout",
     "output_type": "stream",
     "text": [
      "Method: Lasso Regression\n",
      "RMSE on 10-fold CV: 41.4396\n"
     ]
    }
   ],
   "source": [
    "method_name = 'Lasso Regression'\n",
    "print('Method: %s' %method_name)\n",
    "print('RMSE on 10-fold CV: %.4f' %rmse_10cv_lasso)"
   ]
  },
  {
   "cell_type": "code",
   "execution_count": 113,
   "metadata": {
    "collapsed": true
   },
   "outputs": [],
   "source": [
    "# Select the important features\n",
    "lasso_coeff= pd.DataFrame(model_lasso.coef_, columns=[\"Weight\"])\n",
    "imp_features=pd.DataFrame(lasso_coeff.Weight[lasso_coeff.Weight>0])"
   ]
  },
  {
   "cell_type": "code",
   "execution_count": 114,
   "metadata": {},
   "outputs": [
    {
     "name": "stdout",
     "output_type": "stream",
     "text": [
      "Lasso Regression: Imporatant Features according to Lasso: \n"
     ]
    },
    {
     "data": {
      "text/html": [
       "<div>\n",
       "<style>\n",
       "    .dataframe thead tr:only-child th {\n",
       "        text-align: right;\n",
       "    }\n",
       "\n",
       "    .dataframe thead th {\n",
       "        text-align: left;\n",
       "    }\n",
       "\n",
       "    .dataframe tbody tr th {\n",
       "        vertical-align: top;\n",
       "    }\n",
       "</style>\n",
       "<table border=\"1\" class=\"dataframe\">\n",
       "  <thead>\n",
       "    <tr style=\"text-align: right;\">\n",
       "      <th></th>\n",
       "      <th>Weight</th>\n",
       "    </tr>\n",
       "    <tr>\n",
       "      <th>Feature index</th>\n",
       "      <th></th>\n",
       "    </tr>\n",
       "  </thead>\n",
       "  <tbody>\n",
       "    <tr>\n",
       "      <th>1</th>\n",
       "      <td>0.104734</td>\n",
       "    </tr>\n",
       "    <tr>\n",
       "      <th>3</th>\n",
       "      <td>0.006537</td>\n",
       "    </tr>\n",
       "    <tr>\n",
       "      <th>4</th>\n",
       "      <td>0.079248</td>\n",
       "    </tr>\n",
       "    <tr>\n",
       "      <th>8</th>\n",
       "      <td>0.005491</td>\n",
       "    </tr>\n",
       "    <tr>\n",
       "      <th>9</th>\n",
       "      <td>0.357119</td>\n",
       "    </tr>\n",
       "    <tr>\n",
       "      <th>13</th>\n",
       "      <td>0.011172</td>\n",
       "    </tr>\n",
       "    <tr>\n",
       "      <th>22</th>\n",
       "      <td>0.004761</td>\n",
       "    </tr>\n",
       "    <tr>\n",
       "      <th>51</th>\n",
       "      <td>0.178576</td>\n",
       "    </tr>\n",
       "    <tr>\n",
       "      <th>54</th>\n",
       "      <td>0.041989</td>\n",
       "    </tr>\n",
       "    <tr>\n",
       "      <th>61</th>\n",
       "      <td>0.000185</td>\n",
       "    </tr>\n",
       "  </tbody>\n",
       "</table>\n",
       "</div>"
      ],
      "text/plain": [
       "                 Weight\n",
       "Feature index          \n",
       "1              0.104734\n",
       "3              0.006537\n",
       "4              0.079248\n",
       "8              0.005491\n",
       "9              0.357119\n",
       "13             0.011172\n",
       "22             0.004761\n",
       "51             0.178576\n",
       "54             0.041989\n",
       "61             0.000185"
      ]
     },
     "execution_count": 114,
     "metadata": {},
     "output_type": "execute_result"
    }
   ],
   "source": [
    "imp = 'Imporatant Features according to Lasso: '\n",
    "print('Lasso Regression: %s' %imp)\n",
    "imp_features.index.name=\"Feature index\"\n",
    "imp_features"
   ]
  },
  {
   "cell_type": "code",
   "execution_count": 127,
   "metadata": {
    "collapsed": true
   },
   "outputs": [],
   "source": [
    "imp_features.to_excel(\"Problem-7b.xlsx\")"
   ]
  }
 ],
 "metadata": {
  "kernelspec": {
   "display_name": "Python 3",
   "language": "python",
   "name": "python3"
  },
  "language_info": {
   "codemirror_mode": {
    "name": "ipython",
    "version": 3
   },
   "file_extension": ".py",
   "mimetype": "text/x-python",
   "name": "python",
   "nbconvert_exporter": "python",
   "pygments_lexer": "ipython3",
   "version": "3.6.2"
  }
 },
 "nbformat": 4,
 "nbformat_minor": 2
}
